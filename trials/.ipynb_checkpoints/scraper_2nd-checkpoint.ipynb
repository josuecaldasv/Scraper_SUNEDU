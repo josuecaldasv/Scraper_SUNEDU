{
 "cells": [
  {
   "cell_type": "code",
   "execution_count": null,
   "id": "4df1c994-106a-419d-9d91-d72e758bad2a",
   "metadata": {},
   "outputs": [],
   "source": [
    "# !pip install selenium-recaptcha-solver\n",
    "# !pip install python-anticaptcha\n",
    "# !pip install python3-anticaptcha\n",
    "# !pip install pytesseract"
   ]
  },
  {
   "cell_type": "markdown",
   "id": "4a682fb4-871a-48a4-9031-35203a8bedef",
   "metadata": {},
   "source": [
    "https://github.com/UB-Mannheim/tesseract/wiki"
   ]
  },
  {
   "cell_type": "code",
   "execution_count": 1,
   "id": "6b28b212-551c-4a23-be29-9e4d22d00fc9",
   "metadata": {
    "tags": []
   },
   "outputs": [],
   "source": [
    "## LIBRARIES\n",
    "# ---\n",
    "\n",
    "# Selenium\n",
    "from selenium import webdriver\n",
    "from webdriver_manager.chrome import ChromeDriverManager\n",
    "from selenium.webdriver.chrome.service import Service\n",
    "from selenium.webdriver.common.action_chains import ActionChains\n",
    "\n",
    "# Options driver\n",
    "from selenium.webdriver.chrome.options import Options\n",
    "from selenium.webdriver.support.ui import Select\n",
    "\n",
    "# Dataframes\n",
    "import pandas as pd\n",
    "import itertools\n",
    "import os\n",
    "\n",
    "# Simulating human behavior\n",
    "import time\n",
    "from time import sleep\n",
    "import random\n",
    "\n",
    "# Clear data\n",
    "import unidecode\n",
    "\n",
    "# Json files\n",
    "import json\n",
    "import re\n",
    "import numpy as np\n",
    "import itertools\n",
    "from pandas import json_normalize\n",
    "\n",
    "# To use explicit waits\n",
    "from selenium.webdriver.common.by import By\n",
    "from selenium.webdriver.support.ui import WebDriverWait\n",
    "from selenium.webdriver.support import expected_conditions as EC\n",
    "\n",
    "# Download files\n",
    "import urllib.request\n",
    "import requests\n",
    "from openpyxl import Workbook\n",
    "\n",
    "# pytesseract\n",
    "from PIL import Image\n",
    "import pytesseract\n",
    "pytesseract.pytesseract.tesseract_cmd = r\"C:\\Program Files\\Tesseract-OCR\\tesseract.exe\""
   ]
  },
  {
   "cell_type": "code",
   "execution_count": 32,
   "id": "79cfc857-ec5c-4ff7-8ca0-87aa980b8600",
   "metadata": {
    "tags": []
   },
   "outputs": [],
   "source": [
    "options = Options()\n",
    "service = Service( ChromeDriverManager().install( ) )\n",
    "driver  = webdriver.Chrome( service = service )\n",
    "driver.maximize_window()\n",
    "\n",
    "url = f'https://enlinea.sunedu.gob.pe/'\n",
    "driver.get( url )\n",
    "\n",
    "wait = WebDriverWait( driver, 60 )"
   ]
  },
  {
   "cell_type": "code",
   "execution_count": 33,
   "id": "68fafc21-073e-41e2-baf4-a8001e5a4ffd",
   "metadata": {
    "tags": []
   },
   "outputs": [],
   "source": [
    "verificar_titulos_popup = driver.find_element( By.XPATH, '//*[@id=\"dvEnLinea\"]/div[2]/div[3]/div/div[2]/div/a' )\n",
    "verificar_titulos_popup.click()"
   ]
  },
  {
   "cell_type": "code",
   "execution_count": 34,
   "id": "ea9d9103-0019-469e-a5a8-c917153ff4b0",
   "metadata": {
    "tags": []
   },
   "outputs": [],
   "source": [
    "frame_popup = driver.find_element( By.XPATH, '//*[@id=\"ifrmShowFormConstancias\"]' )\n",
    "driver.switch_to.frame( frame_popup )"
   ]
  },
  {
   "cell_type": "code",
   "execution_count": 35,
   "id": "bce97355-47cb-474b-9603-cc9eb95602de",
   "metadata": {
    "tags": []
   },
   "outputs": [],
   "source": [
    "dni = '70313538'"
   ]
  },
  {
   "cell_type": "code",
   "execution_count": 38,
   "id": "1aeb865f-80cb-45e4-938c-eb9de8aa783a",
   "metadata": {
    "tags": []
   },
   "outputs": [],
   "source": [
    "dni_campo = driver.find_element( By.XPATH, '//*[@id=\"doc\"]' )\n",
    "dni_campo.clear()\n",
    "dni_campo.send_keys( dni )"
   ]
  },
  {
   "cell_type": "code",
   "execution_count": 39,
   "id": "32391bf9-4b67-4f4c-b1bf-aa8e33404ada",
   "metadata": {
    "tags": []
   },
   "outputs": [],
   "source": [
    "captcha       = driver.find_element( By.XPATH, '//*[@id=\"captchaImg\"]/img' )\n",
    "captcha_image = captcha.screenshot_as_png\n",
    "with open( 'image.png', 'wb' ) as f:\n",
    "    f.write( captcha_image )\n",
    "    \n",
    "clave = pytesseract.image_to_string( Image.open( 'image.png') ).strip()"
   ]
  },
  {
   "cell_type": "code",
   "execution_count": 40,
   "id": "3efaf651-be25-4593-a47a-0ba18f675a57",
   "metadata": {
    "tags": []
   },
   "outputs": [],
   "source": [
    "campo_captcha = driver.find_element(By.XPATH, '//*[@id=\"captcha\"]' )\n",
    "campo_captcha.clear()\n",
    "campo_captcha.send_keys( clave )"
   ]
  },
  {
   "cell_type": "code",
   "execution_count": 41,
   "id": "f6e71a3b-84f0-4ce3-986c-7c52efc0a9c5",
   "metadata": {
    "tags": []
   },
   "outputs": [],
   "source": [
    "buscar_boton = driver.find_element( By.XPATH, '//*[@id=\"buscar\"]' )\n",
    "buscar_boton.click()"
   ]
  },
  {
   "cell_type": "code",
   "execution_count": 42,
   "id": "f99a0b46-4379-482f-b4f8-2657e777f8ea",
   "metadata": {
    "tags": []
   },
   "outputs": [
    {
     "data": {
      "text/plain": [
       "'Bachiller en Ciencias Sociales con Mención en Ciencia Política y Gobierno'"
      ]
     },
     "execution_count": 42,
     "metadata": {},
     "output_type": "execute_result"
    }
   ],
   "source": [
    "grado = driver.find_element( By.XPATH, '//*[@id=\"finalData\"]/tr/td[2]/b[1]/p' ).text\n",
    "grado"
   ]
  },
  {
   "cell_type": "code",
   "execution_count": 43,
   "id": "2fe42ef3-adcf-46d0-8975-57c158ceb71a",
   "metadata": {
    "tags": []
   },
   "outputs": [
    {
     "data": {
      "text/plain": [
       "'Fecha de diploma: 01/03/2023'"
      ]
     },
     "execution_count": 43,
     "metadata": {},
     "output_type": "execute_result"
    }
   ],
   "source": [
    "fecha_diploma = driver.find_element( By.XPATH, '//*[@id=\"finalData\"]/tr/td[2]/b[2]' ).text\n",
    "fecha_diploma"
   ]
  },
  {
   "cell_type": "code",
   "execution_count": 44,
   "id": "4390a120-9798-4a2f-aee3-83745b119f14",
   "metadata": {
    "tags": []
   },
   "outputs": [
    {
     "data": {
      "text/plain": [
       "'PRESENCIAL'"
      ]
     },
     "execution_count": 44,
     "metadata": {},
     "output_type": "execute_result"
    }
   ],
   "source": [
    "modalidad = driver.find_element( By.XPATH, '//*[@id=\"finalData\"]/tr/td[2]/span[1]' ).text\n",
    "modalidad"
   ]
  },
  {
   "cell_type": "code",
   "execution_count": 45,
   "id": "3d430574-376b-457c-b0d7-e71d4dcbd3a0",
   "metadata": {
    "tags": []
   },
   "outputs": [
    {
     "data": {
      "text/plain": [
       "'PONTIFICIA UNIVERSIDAD CATÓLICA DEL PERÚ'"
      ]
     },
     "execution_count": 45,
     "metadata": {},
     "output_type": "execute_result"
    }
   ],
   "source": [
    "institucion = driver.find_element( By.XPATH, '//*[@id=\"finalData\"]/tr/td[3]/span' ).text\n",
    "institucion"
   ]
  },
  {
   "cell_type": "code",
   "execution_count": null,
   "id": "5f2fc2be-f9ec-4e7f-9352-c7fcba92e40b",
   "metadata": {},
   "outputs": [],
   "source": []
  },
  {
   "cell_type": "code",
   "execution_count": null,
   "id": "95027007-cba9-4ecd-b7d7-59ca2d3711d8",
   "metadata": {},
   "outputs": [],
   "source": []
  },
  {
   "cell_type": "code",
   "execution_count": 49,
   "id": "423e7d27-e330-41c4-8fa7-6f31a3c84403",
   "metadata": {
    "tags": []
   },
   "outputs": [],
   "source": [
    "def extract_info( df ):\n",
    "    \n",
    "    options = Options()\n",
    "    service = Service( ChromeDriverManager().install( ) )\n",
    "    driver  = webdriver.Chrome( service = service )\n",
    "    driver.maximize_window()\n",
    "\n",
    "    url     = f'https://enlinea.sunedu.gob.pe/'\n",
    "    driver.get( url )\n",
    "    wait    = WebDriverWait( driver, 60 )\n",
    "    \n",
    "    verificar_titulos_popup = driver.find_element( By.XPATH, '//*[@id=\"dvEnLinea\"]/div[2]/div[3]/div/div[2]/div/a' )\n",
    "    verificar_titulos_popup.click()\n",
    "    \n",
    "    frame_popup = driver.find_element( By.XPATH, '//*[@id=\"ifrmShowFormConstancias\"]' )\n",
    "    driver.switch_to.frame( frame_popup )\n",
    "    \n",
    "    for index, row in df.iterrows():\n",
    "        \n",
    "        dni_valor = row['dni']\n",
    "        \n",
    "        dni_campo = wait.until( EC.presence_of_element_located( ( By.XPATH, '//*[@id=\"doc\"]' ) ) )\n",
    "        dni_campo.clear()\n",
    "        dni_campo.send_keys( dni_valor )\n",
    "                \n",
    "        captcha       = driver.find_element( By.XPATH, '//*[@id=\"captchaImg\"]/img' )\n",
    "        captcha_image = captcha.screenshot_as_png\n",
    "        with open( 'image.png', 'wb' ) as f:\n",
    "            f.write( captcha_image )\n",
    "\n",
    "        clave_valor = pytesseract.image_to_string( Image.open( 'image.png') ).strip()\n",
    "        campo_captcha = wait.until( EC.presence_of_element_located( ( By.XPATH, '//*[@id=\"captcha\"]' ) ) )\n",
    "        campo_captcha.clear()\n",
    "        campo_captcha.send_keys( clave_valor )                \n",
    "            \n",
    "        buscar_boton = wait.until( EC.presence_of_element_located( ( By.XPATH, '//*[@id=\"buscar\"]' ) ) )\n",
    "        buscar_boton.click()\n",
    "        \n",
    "        grado         = wait.until( EC.presence_of_element_located( ( By.XPATH, '//*[@id=\"finalData\"]/tr[1]/td[2]/b[1]/p' ) ) ).text\n",
    "        fecha_diploma = wait.until( EC.presence_of_element_located( ( By.XPATH, '//*[@id=\"finalData\"]/tr[1]/td[2]/b[2]' ) ) ).text\n",
    "        modalidad     = wait.until( EC.presence_of_element_located( ( By.XPATH, '//*[@id=\"finalData\"]/tr[1]/td[2]/span' ) ) ).text\n",
    "        institucion   = wait.until( EC.presence_of_element_located( ( By.XPATH, '//*[@id=\"finalData\"]/tr[1]/td[3]/span' ) ) ).text\n",
    "        \n",
    "        print( grado )\n",
    "        print( institucion )\n",
    "        \n",
    "        df.at[ index, 'grado' ]         = grado       \n",
    "        df.at[ index, 'fecha_diploma' ] = fecha_diploma    \n",
    "        df.at[ index, 'modalidad' ]     = modalidad    \n",
    "        df.at[ index, 'institucion' ]   = institucion\n",
    "        \n",
    "        # Salir del iframe para recargar la página principal\n",
    "        driver.switch_to.default_content()\n",
    "\n",
    "        # Recargar la página principal\n",
    "        driver.refresh()\n",
    "\n",
    "        # Volver a entrar en el iframe\n",
    "        verificar_titulos_popup = driver.find_element( By.XPATH, '//*[@id=\"dvEnLinea\"]/div[2]/div[3]/div/div[2]/div/a' )\n",
    "        verificar_titulos_popup.click()\n",
    "        frame_popup = driver.find_element(By.XPATH, '//*[@id=\"ifrmShowFormConstancias\"]')\n",
    "        driver.switch_to.frame(frame_popup)\n",
    "\n",
    "        time.sleep(10)\n",
    "        \n",
    "    driver.quit()\n",
    "        \n",
    "    return df"
   ]
  },
  {
   "cell_type": "code",
   "execution_count": 50,
   "id": "7f31a948-4b01-4f3f-b475-6f5065485001",
   "metadata": {
    "tags": []
   },
   "outputs": [
    {
     "data": {
      "text/html": [
       "<div>\n",
       "<style scoped>\n",
       "    .dataframe tbody tr th:only-of-type {\n",
       "        vertical-align: middle;\n",
       "    }\n",
       "\n",
       "    .dataframe tbody tr th {\n",
       "        vertical-align: top;\n",
       "    }\n",
       "\n",
       "    .dataframe thead th {\n",
       "        text-align: right;\n",
       "    }\n",
       "</style>\n",
       "<table border=\"1\" class=\"dataframe\">\n",
       "  <thead>\n",
       "    <tr style=\"text-align: right;\">\n",
       "      <th></th>\n",
       "      <th>dni</th>\n",
       "    </tr>\n",
       "  </thead>\n",
       "  <tbody>\n",
       "    <tr>\n",
       "      <th>0</th>\n",
       "      <td>70313538</td>\n",
       "    </tr>\n",
       "    <tr>\n",
       "      <th>1</th>\n",
       "      <td>32220818</td>\n",
       "    </tr>\n",
       "    <tr>\n",
       "      <th>2</th>\n",
       "      <td>32224811</td>\n",
       "    </tr>\n",
       "  </tbody>\n",
       "</table>\n",
       "</div>"
      ],
      "text/plain": [
       "        dni\n",
       "0  70313538\n",
       "1  32220818\n",
       "2  32224811"
      ]
     },
     "execution_count": 50,
     "metadata": {},
     "output_type": "execute_result"
    }
   ],
   "source": [
    "data = pd.read_excel( 'data.xlsx', dtype = { 'dni': str } )\n",
    "data"
   ]
  },
  {
   "cell_type": "code",
   "execution_count": 51,
   "id": "a76a3986-ccd9-46b9-b53f-0a165a4991c7",
   "metadata": {
    "tags": []
   },
   "outputs": [
    {
     "name": "stdout",
     "output_type": "stream",
     "text": [
      "Bachiller en Ciencias Sociales con Mención en Ciencia Política y Gobierno\n",
      "PONTIFICIA UNIVERSIDAD CATÓLICA DEL PERÚ\n",
      "LICENCIADA EN EDUCACION PRIMARIA\n",
      "UNIVERSIDAD PRIVADA DE SAN PEDRO\n",
      "LICENCIADO EN CIENCIAS DE LA EDUCACION\n",
      "UNIVERSIDAD NACIONAL DE EDUCACIÓN ENRIQUE GUZMÁN Y VALLE\n"
     ]
    }
   ],
   "source": [
    "new_data = extract_info( data )"
   ]
  },
  {
   "cell_type": "code",
   "execution_count": 48,
   "id": "69e98bdd-82ad-4527-a039-8f352ac464ff",
   "metadata": {
    "tags": []
   },
   "outputs": [
    {
     "data": {
      "text/html": [
       "<div>\n",
       "<style scoped>\n",
       "    .dataframe tbody tr th:only-of-type {\n",
       "        vertical-align: middle;\n",
       "    }\n",
       "\n",
       "    .dataframe tbody tr th {\n",
       "        vertical-align: top;\n",
       "    }\n",
       "\n",
       "    .dataframe thead th {\n",
       "        text-align: right;\n",
       "    }\n",
       "</style>\n",
       "<table border=\"1\" class=\"dataframe\">\n",
       "  <thead>\n",
       "    <tr style=\"text-align: right;\">\n",
       "      <th></th>\n",
       "      <th>dni</th>\n",
       "      <th>grado</th>\n",
       "      <th>fecha_diploma</th>\n",
       "      <th>modalidad</th>\n",
       "      <th>institucion</th>\n",
       "    </tr>\n",
       "  </thead>\n",
       "  <tbody>\n",
       "    <tr>\n",
       "      <th>0</th>\n",
       "      <td>70313538</td>\n",
       "      <td>Bachiller en Ciencias Sociales con Mención en ...</td>\n",
       "      <td>Fecha de diploma: 01/03/2023</td>\n",
       "      <td>PRESENCIAL</td>\n",
       "      <td>PONTIFICIA UNIVERSIDAD CATÓLICA DEL PERÚ</td>\n",
       "    </tr>\n",
       "    <tr>\n",
       "      <th>1</th>\n",
       "      <td>32220818</td>\n",
       "      <td>LICENCIADA EN EDUCACION PRIMARIA</td>\n",
       "      <td>Fecha de diploma: 01/06/2007</td>\n",
       "      <td>-</td>\n",
       "      <td>UNIVERSIDAD PRIVADA DE SAN PEDRO</td>\n",
       "    </tr>\n",
       "    <tr>\n",
       "      <th>2</th>\n",
       "      <td>32224811</td>\n",
       "      <td>LICENCIADO EN CIENCIAS DE LA EDUCACION</td>\n",
       "      <td>Fecha de diploma:</td>\n",
       "      <td>-</td>\n",
       "      <td>UNIVERSIDAD NACIONAL DE EDUCACIÓN ENRIQUE GUZM...</td>\n",
       "    </tr>\n",
       "  </tbody>\n",
       "</table>\n",
       "</div>"
      ],
      "text/plain": [
       "        dni                                              grado  \\\n",
       "0  70313538  Bachiller en Ciencias Sociales con Mención en ...   \n",
       "1  32220818                   LICENCIADA EN EDUCACION PRIMARIA   \n",
       "2  32224811             LICENCIADO EN CIENCIAS DE LA EDUCACION   \n",
       "\n",
       "                  fecha_diploma   modalidad  \\\n",
       "0  Fecha de diploma: 01/03/2023  PRESENCIAL   \n",
       "1  Fecha de diploma: 01/06/2007           -   \n",
       "2             Fecha de diploma:           -   \n",
       "\n",
       "                                         institucion  \n",
       "0           PONTIFICIA UNIVERSIDAD CATÓLICA DEL PERÚ  \n",
       "1                   UNIVERSIDAD PRIVADA DE SAN PEDRO  \n",
       "2  UNIVERSIDAD NACIONAL DE EDUCACIÓN ENRIQUE GUZM...  "
      ]
     },
     "execution_count": 48,
     "metadata": {},
     "output_type": "execute_result"
    }
   ],
   "source": [
    "new_data"
   ]
  },
  {
   "cell_type": "code",
   "execution_count": null,
   "id": "1b31c415-7fd3-45e2-9c88-65be6c2eca09",
   "metadata": {},
   "outputs": [],
   "source": []
  },
  {
   "cell_type": "code",
   "execution_count": null,
   "id": "1095d355-08da-43cd-a02d-d9d060850ba3",
   "metadata": {},
   "outputs": [],
   "source": []
  },
  {
   "cell_type": "code",
   "execution_count": null,
   "id": "65936222-4a76-4bae-a40b-791f01a7e73f",
   "metadata": {},
   "outputs": [],
   "source": [
    "//*[@id=\"finalData\"]/tr/td[2]/span[1]\n",
    "//*[@id=\"finalData\"]/tr[2]/td[2]/span"
   ]
  },
  {
   "cell_type": "code",
   "execution_count": null,
   "id": "8093ff78-14ea-4d91-a707-665268ad23ad",
   "metadata": {},
   "outputs": [],
   "source": [
    "//*[@id=\"finalData\"]/tr[1]/td[2]/span"
   ]
  },
  {
   "cell_type": "code",
   "execution_count": null,
   "id": "4d764491-8dc1-429b-b247-0f44740485ef",
   "metadata": {},
   "outputs": [],
   "source": []
  },
  {
   "cell_type": "code",
   "execution_count": null,
   "id": "9f69df48-3050-450c-a23d-2ef613156326",
   "metadata": {},
   "outputs": [],
   "source": [
    "## SI FUNCIONA\n",
    "\n",
    "def extract_info( df ):\n",
    "    \n",
    "    options = Options()\n",
    "    service = Service( ChromeDriverManager().install( ) )\n",
    "    driver  = webdriver.Chrome( service = service )\n",
    "    driver.maximize_window()\n",
    "\n",
    "    url     = f'https://enlinea.sunedu.gob.pe/'\n",
    "    driver.get( url )\n",
    "    wait    = WebDriverWait( driver, 60 )\n",
    "    \n",
    "    verificar_titulos_popup = driver.find_element( By.XPATH, '//*[@id=\"dvEnLinea\"]/div[2]/div[3]/div/div[2]/div/a' )\n",
    "    verificar_titulos_popup.click()\n",
    "    \n",
    "    frame_popup = driver.find_element( By.XPATH, '//*[@id=\"ifrmShowFormConstancias\"]' )\n",
    "    driver.switch_to.frame( frame_popup )\n",
    "    \n",
    "    for index, row in df.iterrows():\n",
    "        \n",
    "        dni_valor = row['dni']\n",
    "        \n",
    "        dni_campo = wait.until( EC.presence_of_element_located( ( By.XPATH, '//*[@id=\"doc\"]' ) ) )\n",
    "        dni_campo.clear()\n",
    "        dni_campo.send_keys( dni_valor )\n",
    "        \n",
    "\n",
    "        max_retries = 5\n",
    "\n",
    "        for retry in range( max_retries ):\n",
    "            \n",
    "            try:\n",
    "                \n",
    "                captcha       = driver.find_element( By.XPATH, '//*[@id=\"captchaImg\"]/img' )\n",
    "                captcha_image = captcha.screenshot_as_png\n",
    "                with open( 'image.png', 'wb' ) as f:\n",
    "                    f.write( captcha_image )\n",
    "                \n",
    "                clave_valor = pytesseract.image_to_string( Image.open( 'image.png') ).strip()\n",
    "                campo_captcha = wait.until( EC.presence_of_element_located( ( By.XPATH, '//*[@id=\"captcha\"]' ) ) )\n",
    "                campo_captcha.clear()\n",
    "                campo_captcha.send_keys( clave_valor )                 \n",
    "                break  # Salir del bucle si el bloque try tiene éxito\n",
    "            \n",
    "            except:\n",
    "                print( f'Error: { e }' )\n",
    "                print( f'Intentando de nuevo después de 30 segundos...' )\n",
    "                time.sleep( 30 )\n",
    "                boton_x = wait.until( EC.presence_of_element_located( ( By.XPATH, '//*[@id=\"closeModalError\"]/span[1]' ) ) )\n",
    "                boton_x.click()\n",
    "        \n",
    "        buscar_boton = wait.until( EC.presence_of_element_located( ( By.XPATH, '//*[@id=\"buscar\"]' ) ) )\n",
    "        buscar_boton.click()\n",
    "        \n",
    "        grado         = wait.until( EC.presence_of_element_located( ( By.XPATH, '//*[@id=\"finalData\"]/tr[1]/td[2]/b[1]/p' ) ) ).text\n",
    "        fecha_diploma = wait.until( EC.presence_of_element_located( ( By.XPATH, '//*[@id=\"finalData\"]/tr[1]/td[2]/b[2]' ) ) ).text\n",
    "        modalidad     = wait.until( EC.presence_of_element_located( ( By.XPATH, '//*[@id=\"finalData\"]/tr[1]/td[2]/span' ) ) ).text\n",
    "        institucion   = wait.until( EC.presence_of_element_located( ( By.XPATH, '//*[@id=\"finalData\"]/tr[1]/td[3]/span' ) ) ).text\n",
    "        \n",
    "        print( grado )\n",
    "        print( institucion )\n",
    "        \n",
    "        df.at[ index, 'grado' ]         = grado       \n",
    "        df.at[ index, 'fecha_diploma' ] = fecha_diploma    \n",
    "        df.at[ index, 'modalidad' ]     = modalidad    \n",
    "        df.at[ index, 'institucion' ]   = institucion\n",
    "        \n",
    "        # Salir del iframe para recargar la página principal\n",
    "        driver.switch_to.default_content()\n",
    "\n",
    "        # Recargar la página principal\n",
    "        driver.refresh()\n",
    "\n",
    "        # Volver a entrar en el iframe\n",
    "        verificar_titulos_popup = driver.find_element( By.XPATH, '//*[@id=\"dvEnLinea\"]/div[2]/div[3]/div/div[2]/div/a' )\n",
    "        verificar_titulos_popup.click()\n",
    "        frame_popup = driver.find_element(By.XPATH, '//*[@id=\"ifrmShowFormConstancias\"]')\n",
    "        driver.switch_to.frame(frame_popup)\n",
    "\n",
    "        time.sleep(10)\n",
    "        \n",
    "    driver.quit()\n",
    "        \n",
    "    return df"
   ]
  }
 ],
 "metadata": {
  "kernelspec": {
   "display_name": "Python 3 (ipykernel)",
   "language": "python",
   "name": "python3"
  },
  "language_info": {
   "codemirror_mode": {
    "name": "ipython",
    "version": 3
   },
   "file_extension": ".py",
   "mimetype": "text/x-python",
   "name": "python",
   "nbconvert_exporter": "python",
   "pygments_lexer": "ipython3",
   "version": "3.11.4"
  }
 },
 "nbformat": 4,
 "nbformat_minor": 5
}

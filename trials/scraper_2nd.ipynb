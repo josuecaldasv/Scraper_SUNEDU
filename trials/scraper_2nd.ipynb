{
 "cells": [
  {
   "cell_type": "code",
   "execution_count": 2,
   "id": "6b28b212-551c-4a23-be29-9e4d22d00fc9",
   "metadata": {
    "tags": []
   },
   "outputs": [],
   "source": [
    "## LIBRARIES\n",
    "# ---\n",
    "\n",
    "# Selenium\n",
    "from selenium import webdriver\n",
    "from webdriver_manager.chrome import ChromeDriverManager\n",
    "from selenium.webdriver.chrome.service import Service\n",
    "from selenium.webdriver.common.action_chains import ActionChains\n",
    "\n",
    "# Options driver\n",
    "from selenium.webdriver.chrome.options import Options\n",
    "from selenium.webdriver.support.ui import Select\n",
    "\n",
    "# Dataframes\n",
    "import pandas as pd\n",
    "import itertools\n",
    "import os\n",
    "\n",
    "# Simulating human behavior\n",
    "import time\n",
    "from time import sleep\n",
    "import random\n",
    "\n",
    "# Clear data\n",
    "import unidecode\n",
    "\n",
    "# Json files\n",
    "import json\n",
    "import re\n",
    "import numpy as np\n",
    "import itertools\n",
    "from pandas import json_normalize\n",
    "\n",
    "# To use explicit waits\n",
    "from selenium.webdriver.common.by import By\n",
    "from selenium.webdriver.support.ui import WebDriverWait\n",
    "from selenium.webdriver.support import expected_conditions as EC\n",
    "\n",
    "# Download files\n",
    "import urllib.request\n",
    "import requests\n",
    "from openpyxl import Workbook\n",
    "\n",
    "# pytesseract\n",
    "from PIL import Image\n",
    "import pytesseract\n",
    "pytesseract.pytesseract.tesseract_cmd = r\"C:\\Program Files\\Tesseract-OCR\\tesseract.exe\""
   ]
  },
  {
   "cell_type": "code",
   "execution_count": 42,
   "id": "79cfc857-ec5c-4ff7-8ca0-87aa980b8600",
   "metadata": {
    "tags": []
   },
   "outputs": [],
   "source": [
    "options = Options()\n",
    "service = Service( ChromeDriverManager().install( ) )\n",
    "driver  = webdriver.Chrome( service = service )\n",
    "driver.maximize_window()\n",
    "\n",
    "url = f'https://enlinea.sunedu.gob.pe/'\n",
    "driver.get( url )\n",
    "\n",
    "wait = WebDriverWait( driver, 60 )"
   ]
  },
  {
   "cell_type": "code",
   "execution_count": 43,
   "id": "68fafc21-073e-41e2-baf4-a8001e5a4ffd",
   "metadata": {
    "tags": []
   },
   "outputs": [],
   "source": [
    "verificar_titulos_popup = driver.find_element( By.XPATH, '//*[@id=\"dvEnLinea\"]/div[2]/div[3]/div/div[2]/div/a' )\n",
    "verificar_titulos_popup.click()"
   ]
  },
  {
   "cell_type": "code",
   "execution_count": 44,
   "id": "ea9d9103-0019-469e-a5a8-c917153ff4b0",
   "metadata": {
    "tags": []
   },
   "outputs": [],
   "source": [
    "frame_popup = driver.find_element( By.XPATH, '//*[@id=\"ifrmShowFormConstancias\"]' )\n",
    "driver.switch_to.frame( frame_popup )"
   ]
  },
  {
   "cell_type": "code",
   "execution_count": 45,
   "id": "bce97355-47cb-474b-9603-cc9eb95602de",
   "metadata": {
    "tags": []
   },
   "outputs": [],
   "source": [
    "# dni = '32224811'\n",
    "dni = '70313538'"
   ]
  },
  {
   "cell_type": "code",
   "execution_count": 46,
   "id": "1aeb865f-80cb-45e4-938c-eb9de8aa783a",
   "metadata": {
    "tags": []
   },
   "outputs": [],
   "source": [
    "dni_campo = driver.find_element( By.XPATH, '//*[@id=\"doc\"]' )\n",
    "dni_campo.clear()\n",
    "dni_campo.send_keys( dni )"
   ]
  },
  {
   "cell_type": "code",
   "execution_count": 47,
   "id": "32391bf9-4b67-4f4c-b1bf-aa8e33404ada",
   "metadata": {
    "tags": []
   },
   "outputs": [],
   "source": [
    "captcha       = driver.find_element( By.XPATH, '//*[@id=\"captchaImg\"]/img' )\n",
    "captcha_image = captcha.screenshot_as_png\n",
    "with open( 'image.png', 'wb' ) as f:\n",
    "    f.write( captcha_image )\n",
    "    \n",
    "clave = pytesseract.image_to_string( Image.open( 'image.png') ).strip()"
   ]
  },
  {
   "cell_type": "code",
   "execution_count": 48,
   "id": "3efaf651-be25-4593-a47a-0ba18f675a57",
   "metadata": {
    "tags": []
   },
   "outputs": [],
   "source": [
    "campo_captcha = driver.find_element(By.XPATH, '//*[@id=\"captcha\"]' )\n",
    "campo_captcha.clear()\n",
    "campo_captcha.send_keys( clave )"
   ]
  },
  {
   "cell_type": "code",
   "execution_count": 49,
   "id": "f6e71a3b-84f0-4ce3-986c-7c52efc0a9c5",
   "metadata": {
    "tags": []
   },
   "outputs": [],
   "source": [
    "buscar_boton = driver.find_element( By.XPATH, '//*[@id=\"buscar\"]' )\n",
    "buscar_boton.click()"
   ]
  },
  {
   "cell_type": "code",
   "execution_count": 13,
   "id": "ca099c39-1512-4621-be4c-7f331802897d",
   "metadata": {
    "tags": []
   },
   "outputs": [],
   "source": [
    "result_sections = driver.find_elements( By.XPATH, '//*[@id=\"finalData\"]/tr' )\n",
    "sections = {f'section {i}':result_section.text for i,result_section in enumerate(result_sections)}"
   ]
  },
  {
   "cell_type": "code",
   "execution_count": 14,
   "id": "a8123f40-4765-45a6-8633-209798620165",
   "metadata": {},
   "outputs": [],
   "source": [
    "sections = {}\n",
    "for i, result_section in enumerate(result_sections):\n",
    "    section_name = f'section {i}'\n",
    "    sections[section_name] = result_section.text"
   ]
  },
  {
   "cell_type": "code",
   "execution_count": 15,
   "id": "57c038a4-d901-4a07-a2eb-cd6cfec2d27d",
   "metadata": {
    "tags": []
   },
   "outputs": [
    {
     "data": {
      "text/plain": [
       "{'section 0': 'CALDAS CAÑARI, ROMEL DAVID\\nDNI 32224811\\nLICENCIADO EN CIENCIAS DE LA EDUCACION\\n\\nFecha de diploma:\\nModalidad de estudios: -\\nUNIVERSIDAD NACIONAL DE EDUCACIÓN ENRIQUE GUZMÁN Y VALLE\\nPERU',\n",
       " 'section 1': 'CALDAS CAÑARI, ROMEL DAVID\\nDNI 32224811\\nLICENCIADO EN EDUCACION. ESPECIALIDAD:\\n\\nFecha de diploma: 18/05/1998\\nModalidad de estudios: -\\nUNIVERSIDAD NACIONAL DE EDUCACIÓN ENRIQUE GUZMÁN Y VALLE\\nPERU',\n",
       " 'section 2': 'CALDAS CAÑARI, ROMEL DAVID\\nDNI 32224811\\nBACHILLER EN CIENCIAS DE LA EDUCACION\\n\\nFecha de diploma: 22/08/1997\\nModalidad de estudios: -\\n\\nFecha matrícula: Sin información (***)\\nFecha egreso: Sin información (***) UNIVERSIDAD NACIONAL DE EDUCACIÓN ENRIQUE GUZMÁN Y VALLE\\nPERU',\n",
       " 'section 3': 'CALDAS CAÑARI, ROMEL DAVID\\nDNI 32224811\\nMAESTRO EN EDUCACION CON MENCION EN DOCENCIA UNIVERSITARIA Y GESTION EDUCATIVA\\n\\nFecha de diploma: 12/10/17\\nModalidad de estudios: PRESENCIAL\\n\\nFecha matrícula: 16/04/2016\\nFecha egreso: 12/11/2017 UNIVERSIDAD SAN PEDRO\\nPERU'}"
      ]
     },
     "execution_count": 15,
     "metadata": {},
     "output_type": "execute_result"
    }
   ],
   "source": [
    "sections"
   ]
  },
  {
   "cell_type": "code",
   "execution_count": 53,
   "id": "f59a51a7-fb18-4077-944f-8dde1c53a3e4",
   "metadata": {
    "tags": []
   },
   "outputs": [
    {
     "data": {
      "text/html": [
       "<div>\n",
       "<style scoped>\n",
       "    .dataframe tbody tr th:only-of-type {\n",
       "        vertical-align: middle;\n",
       "    }\n",
       "\n",
       "    .dataframe tbody tr th {\n",
       "        vertical-align: top;\n",
       "    }\n",
       "\n",
       "    .dataframe thead th {\n",
       "        text-align: right;\n",
       "    }\n",
       "</style>\n",
       "<table border=\"1\" class=\"dataframe\">\n",
       "  <thead>\n",
       "    <tr style=\"text-align: right;\">\n",
       "      <th></th>\n",
       "    </tr>\n",
       "  </thead>\n",
       "  <tbody>\n",
       "  </tbody>\n",
       "</table>\n",
       "</div>"
      ],
      "text/plain": [
       "Empty DataFrame\n",
       "Columns: []\n",
       "Index: []"
      ]
     },
     "execution_count": 53,
     "metadata": {},
     "output_type": "execute_result"
    }
   ],
   "source": [
    "rows = []\n",
    "sections = {}\n",
    "result_sections = driver.find_elements( By.XPATH, '//*[@id=\"finalData\"]/tr' )\n",
    "for i, result in enumerate( result_sections ):\n",
    "    section_name = f'section {i}'\n",
    "    boxes = result.find_elements( By.XPATH, f'//*[@id=\"finalData\"]/tr[{ i }]/td' )\n",
    "    for box in boxes:\n",
    "        text = box.text\n",
    "        sections[section_name] = box.text\n",
    "        \n",
    "        row = {'title':'hola' }\n",
    "        row.update(sections)\n",
    "        rows.append(row)\n",
    "        \n",
    "df = pd.DataFrame(rows)\n",
    "df"
   ]
  },
  {
   "cell_type": "code",
   "execution_count": null,
   "id": "ccd2e4f4-564e-43df-88f6-3b1d2efde2d9",
   "metadata": {},
   "outputs": [],
   "source": [
    "//*[@id=\"finalData\"]/tr"
   ]
  },
  {
   "cell_type": "code",
   "execution_count": 33,
   "id": "68fd30c8-679e-42a7-99e3-618d387e0d46",
   "metadata": {},
   "outputs": [
    {
     "data": {
      "text/html": [
       "<div>\n",
       "<style scoped>\n",
       "    .dataframe tbody tr th:only-of-type {\n",
       "        vertical-align: middle;\n",
       "    }\n",
       "\n",
       "    .dataframe tbody tr th {\n",
       "        vertical-align: top;\n",
       "    }\n",
       "\n",
       "    .dataframe thead th {\n",
       "        text-align: right;\n",
       "    }\n",
       "</style>\n",
       "<table border=\"1\" class=\"dataframe\">\n",
       "  <thead>\n",
       "    <tr style=\"text-align: right;\">\n",
       "      <th></th>\n",
       "      <th>title</th>\n",
       "      <th>section 0 1</th>\n",
       "      <th>section 0 2</th>\n",
       "      <th>section 0 3</th>\n",
       "      <th>section 0 4</th>\n",
       "      <th>section 1 1</th>\n",
       "      <th>section 1 2</th>\n",
       "      <th>section 1 3</th>\n",
       "      <th>section 1 4</th>\n",
       "      <th>section 2 1</th>\n",
       "      <th>section 2 2</th>\n",
       "      <th>section 2 3</th>\n",
       "      <th>section 2 4</th>\n",
       "      <th>section 3 1</th>\n",
       "      <th>section 3 2</th>\n",
       "      <th>section 3 3</th>\n",
       "      <th>section 3 4</th>\n",
       "    </tr>\n",
       "  </thead>\n",
       "  <tbody>\n",
       "    <tr>\n",
       "      <th>0</th>\n",
       "      <td>hola</td>\n",
       "      <td>CALDAS CAÑARI, ROMEL DAVID\\nDNI 32224811</td>\n",
       "      <td>LICENCIADO EN CIENCIAS DE LA EDUCACION\\n\\nFech...</td>\n",
       "      <td>UNIVERSIDAD NACIONAL DE EDUCACIÓN ENRIQUE GUZM...</td>\n",
       "      <td></td>\n",
       "      <td>CALDAS CAÑARI, ROMEL DAVID\\nDNI 32224811</td>\n",
       "      <td>LICENCIADO EN EDUCACION. ESPECIALIDAD:\\n\\nFech...</td>\n",
       "      <td>UNIVERSIDAD NACIONAL DE EDUCACIÓN ENRIQUE GUZM...</td>\n",
       "      <td></td>\n",
       "      <td>CALDAS CAÑARI, ROMEL DAVID\\nDNI 32224811</td>\n",
       "      <td>BACHILLER EN CIENCIAS DE LA EDUCACION\\n\\nFecha...</td>\n",
       "      <td>UNIVERSIDAD NACIONAL DE EDUCACIÓN ENRIQUE GUZM...</td>\n",
       "      <td></td>\n",
       "      <td>CALDAS CAÑARI, ROMEL DAVID\\nDNI 32224811</td>\n",
       "      <td>MAESTRO EN EDUCACION CON MENCION EN DOCENCIA U...</td>\n",
       "      <td>UNIVERSIDAD SAN PEDRO\\nPERU</td>\n",
       "      <td></td>\n",
       "    </tr>\n",
       "  </tbody>\n",
       "</table>\n",
       "</div>"
      ],
      "text/plain": [
       "  title                               section 0 1  \\\n",
       "0  hola  CALDAS CAÑARI, ROMEL DAVID\\nDNI 32224811   \n",
       "\n",
       "                                         section 0 2  \\\n",
       "0  LICENCIADO EN CIENCIAS DE LA EDUCACION\\n\\nFech...   \n",
       "\n",
       "                                         section 0 3 section 0 4  \\\n",
       "0  UNIVERSIDAD NACIONAL DE EDUCACIÓN ENRIQUE GUZM...               \n",
       "\n",
       "                                section 1 1  \\\n",
       "0  CALDAS CAÑARI, ROMEL DAVID\\nDNI 32224811   \n",
       "\n",
       "                                         section 1 2  \\\n",
       "0  LICENCIADO EN EDUCACION. ESPECIALIDAD:\\n\\nFech...   \n",
       "\n",
       "                                         section 1 3 section 1 4  \\\n",
       "0  UNIVERSIDAD NACIONAL DE EDUCACIÓN ENRIQUE GUZM...               \n",
       "\n",
       "                                section 2 1  \\\n",
       "0  CALDAS CAÑARI, ROMEL DAVID\\nDNI 32224811   \n",
       "\n",
       "                                         section 2 2  \\\n",
       "0  BACHILLER EN CIENCIAS DE LA EDUCACION\\n\\nFecha...   \n",
       "\n",
       "                                         section 2 3 section 2 4  \\\n",
       "0  UNIVERSIDAD NACIONAL DE EDUCACIÓN ENRIQUE GUZM...               \n",
       "\n",
       "                                section 3 1  \\\n",
       "0  CALDAS CAÑARI, ROMEL DAVID\\nDNI 32224811   \n",
       "\n",
       "                                         section 3 2  \\\n",
       "0  MAESTRO EN EDUCACION CON MENCION EN DOCENCIA U...   \n",
       "\n",
       "                   section 3 3 section 3 4  \n",
       "0  UNIVERSIDAD SAN PEDRO\\nPERU              "
      ]
     },
     "execution_count": 33,
     "metadata": {},
     "output_type": "execute_result"
    }
   ],
   "source": [
    "# SI FUNCIONAAA\n",
    "\n",
    "rows = []\n",
    "sections = {}\n",
    "result_sections = driver.find_elements(By.XPATH, '//*[@id=\"finalData\"]/tr')\n",
    "\n",
    "for i, result in enumerate(result_sections):\n",
    "    \n",
    "    section_name = f'section {i}'\n",
    "    boxes = result.find_elements(By.XPATH, f'//*[@id=\"finalData\"]/tr[{i + 1}]/td')  # Ajuste del índice\n",
    "    for j, box in enumerate(boxes):\n",
    "        text = box.text\n",
    "        sections[f'{section_name} {j + 1}'] = text  # Ajuste del índice\n",
    "\n",
    "# Crear una fila por persona con todas las secciones\n",
    "row = {'title': 'hola'}\n",
    "row.update(sections)\n",
    "rows.append(row)\n",
    "\n",
    "df = pd.DataFrame(rows)\n",
    "\n",
    "df"
   ]
  },
  {
   "cell_type": "code",
   "execution_count": 26,
   "id": "ff537890-e6fc-4998-8c79-fc31e9ce8511",
   "metadata": {},
   "outputs": [],
   "source": [
    "df.to_excel( 'hola.xlsx' )"
   ]
  },
  {
   "cell_type": "code",
   "execution_count": null,
   "id": "1fbfd460-3677-47d5-aa29-9700a81e3a9b",
   "metadata": {},
   "outputs": [],
   "source": []
  },
  {
   "cell_type": "code",
   "execution_count": null,
   "id": "6267358b-aecf-4136-9db2-81ae8beafcf8",
   "metadata": {},
   "outputs": [],
   "source": []
  },
  {
   "cell_type": "code",
   "execution_count": null,
   "id": "b3bcdabf-d58d-4d3e-8330-cc197f0a823b",
   "metadata": {},
   "outputs": [],
   "source": []
  },
  {
   "cell_type": "code",
   "execution_count": 54,
   "id": "54a8c17c-e75f-4fa2-8ef4-7e238b6884eb",
   "metadata": {},
   "outputs": [
    {
     "data": {
      "text/html": [
       "<div>\n",
       "<style scoped>\n",
       "    .dataframe tbody tr th:only-of-type {\n",
       "        vertical-align: middle;\n",
       "    }\n",
       "\n",
       "    .dataframe tbody tr th {\n",
       "        vertical-align: top;\n",
       "    }\n",
       "\n",
       "    .dataframe thead th {\n",
       "        text-align: right;\n",
       "    }\n",
       "</style>\n",
       "<table border=\"1\" class=\"dataframe\">\n",
       "  <thead>\n",
       "    <tr style=\"text-align: right;\">\n",
       "      <th></th>\n",
       "      <th>title</th>\n",
       "      <th>datos_0</th>\n",
       "      <th>grado_fecha_0</th>\n",
       "      <th>institucion_0</th>\n",
       "      <th>otro_0</th>\n",
       "    </tr>\n",
       "  </thead>\n",
       "  <tbody>\n",
       "    <tr>\n",
       "      <th>0</th>\n",
       "      <td>hola</td>\n",
       "      <td>CALDAS VELASQUEZ, JOSUE DANIEL\\nDNI 70313538</td>\n",
       "      <td>Bachiller en Ciencias Sociales con Mención en ...</td>\n",
       "      <td>PONTIFICIA UNIVERSIDAD CATÓLICA DEL PERÚ\\nPERU</td>\n",
       "      <td></td>\n",
       "    </tr>\n",
       "  </tbody>\n",
       "</table>\n",
       "</div>"
      ],
      "text/plain": [
       "  title                                       datos_0  \\\n",
       "0  hola  CALDAS VELASQUEZ, JOSUE DANIEL\\nDNI 70313538   \n",
       "\n",
       "                                       grado_fecha_0  \\\n",
       "0  Bachiller en Ciencias Sociales con Mención en ...   \n",
       "\n",
       "                                    institucion_0 otro_0  \n",
       "0  PONTIFICIA UNIVERSIDAD CATÓLICA DEL PERÚ\\nPERU         "
      ]
     },
     "execution_count": 54,
     "metadata": {},
     "output_type": "execute_result"
    }
   ],
   "source": [
    "rows            = []\n",
    "sections        = {}\n",
    "result_sections = driver.find_elements( By.XPATH, '//*[@id=\"finalData\"]/tr' )\n",
    "\n",
    "for i, result in enumerate( result_sections ):\n",
    "    \n",
    "    boxes = result.find_elements( By.XPATH, f'//*[@id=\"finalData\"]/tr[{ i + 1 }]/td' )\n",
    "    \n",
    "    for j, box in enumerate( boxes ):\n",
    "        \n",
    "        boxes_names_list = { 0 : 'datos', 1 : 'grado_fecha', 2 : 'institucion', 3 : 'otro' }\n",
    "        box_name         = boxes_names_list.get( j )   \n",
    "        text             = box.text\n",
    "        sections[ f'{ box_name }_{ i }' ] = text\n",
    "\n",
    "row = {'title': 'hola'}\n",
    "row.update( sections )\n",
    "rows.append( row )\n",
    "\n",
    "df = pd.DataFrame( rows )\n",
    "\n",
    "df"
   ]
  },
  {
   "cell_type": "code",
   "execution_count": 27,
   "id": "e200257d-a6c0-4c4d-80d8-4872057e3db5",
   "metadata": {
    "tags": []
   },
   "outputs": [
    {
     "data": {
      "text/html": [
       "<div>\n",
       "<style scoped>\n",
       "    .dataframe tbody tr th:only-of-type {\n",
       "        vertical-align: middle;\n",
       "    }\n",
       "\n",
       "    .dataframe tbody tr th {\n",
       "        vertical-align: top;\n",
       "    }\n",
       "\n",
       "    .dataframe thead th {\n",
       "        text-align: right;\n",
       "    }\n",
       "</style>\n",
       "<table border=\"1\" class=\"dataframe\">\n",
       "  <thead>\n",
       "    <tr style=\"text-align: right;\">\n",
       "      <th></th>\n",
       "      <th>texto</th>\n",
       "    </tr>\n",
       "  </thead>\n",
       "  <tbody>\n",
       "    <tr>\n",
       "      <th>0</th>\n",
       "      <td>Resultado\\nGraduado Grado o Título Institución...</td>\n",
       "    </tr>\n",
       "  </tbody>\n",
       "</table>\n",
       "</div>"
      ],
      "text/plain": [
       "                                               texto\n",
       "0  Resultado\\nGraduado Grado o Título Institución..."
      ]
     },
     "execution_count": 27,
     "metadata": {},
     "output_type": "execute_result"
    }
   ],
   "source": [
    "df = pd.DataFrame({'texto': [text]})\n",
    "df"
   ]
  },
  {
   "cell_type": "code",
   "execution_count": 30,
   "id": "c90d403b-1e5d-4418-9291-b861e346a50b",
   "metadata": {
    "collapsed": true,
    "jupyter": {
     "outputs_hidden": true
    },
    "tags": []
   },
   "outputs": [
    {
     "ename": "ValueError",
     "evalue": "All arrays must be of the same length",
     "output_type": "error",
     "traceback": [
      "\u001b[1;31m---------------------------------------------------------------------------\u001b[0m",
      "\u001b[1;31mValueError\u001b[0m                                Traceback (most recent call last)",
      "Cell \u001b[1;32mIn[30], line 25\u001b[0m\n\u001b[0;32m     22\u001b[0m         elementos[patron]\u001b[38;5;241m.\u001b[39mextend([match\u001b[38;5;241m.\u001b[39mgroup(\u001b[38;5;241m1\u001b[39m)\u001b[38;5;241m.\u001b[39mstrip() \u001b[38;5;28;01mfor\u001b[39;00m match \u001b[38;5;129;01min\u001b[39;00m matches])\n\u001b[0;32m     24\u001b[0m \u001b[38;5;66;03m# Crear un nuevo DataFrame con las columnas dinámicas\u001b[39;00m\n\u001b[1;32m---> 25\u001b[0m df_resultado \u001b[38;5;241m=\u001b[39m pd\u001b[38;5;241m.\u001b[39mDataFrame(elementos)\n\u001b[0;32m     27\u001b[0m \u001b[38;5;66;03m# Renombrar las columnas para que sean únicas\u001b[39;00m\n\u001b[0;32m     28\u001b[0m df_resultado\u001b[38;5;241m.\u001b[39mcolumns \u001b[38;5;241m=\u001b[39m [\u001b[38;5;124mf\u001b[39m\u001b[38;5;124m'\u001b[39m\u001b[38;5;132;01m{\u001b[39;00mcol\u001b[38;5;132;01m}\u001b[39;00m\u001b[38;5;124m'\u001b[39m \u001b[38;5;28;01mfor\u001b[39;00m col \u001b[38;5;129;01min\u001b[39;00m df_resultado\u001b[38;5;241m.\u001b[39mcolumns]\n",
      "File \u001b[1;32m~\\anaconda3\\Lib\\site-packages\\pandas\\core\\frame.py:709\u001b[0m, in \u001b[0;36mDataFrame.__init__\u001b[1;34m(self, data, index, columns, dtype, copy)\u001b[0m\n\u001b[0;32m    703\u001b[0m     mgr \u001b[38;5;241m=\u001b[39m \u001b[38;5;28mself\u001b[39m\u001b[38;5;241m.\u001b[39m_init_mgr(\n\u001b[0;32m    704\u001b[0m         data, axes\u001b[38;5;241m=\u001b[39m{\u001b[38;5;124m\"\u001b[39m\u001b[38;5;124mindex\u001b[39m\u001b[38;5;124m\"\u001b[39m: index, \u001b[38;5;124m\"\u001b[39m\u001b[38;5;124mcolumns\u001b[39m\u001b[38;5;124m\"\u001b[39m: columns}, dtype\u001b[38;5;241m=\u001b[39mdtype, copy\u001b[38;5;241m=\u001b[39mcopy\n\u001b[0;32m    705\u001b[0m     )\n\u001b[0;32m    707\u001b[0m \u001b[38;5;28;01melif\u001b[39;00m \u001b[38;5;28misinstance\u001b[39m(data, \u001b[38;5;28mdict\u001b[39m):\n\u001b[0;32m    708\u001b[0m     \u001b[38;5;66;03m# GH#38939 de facto copy defaults to False only in non-dict cases\u001b[39;00m\n\u001b[1;32m--> 709\u001b[0m     mgr \u001b[38;5;241m=\u001b[39m dict_to_mgr(data, index, columns, dtype\u001b[38;5;241m=\u001b[39mdtype, copy\u001b[38;5;241m=\u001b[39mcopy, typ\u001b[38;5;241m=\u001b[39mmanager)\n\u001b[0;32m    710\u001b[0m \u001b[38;5;28;01melif\u001b[39;00m \u001b[38;5;28misinstance\u001b[39m(data, ma\u001b[38;5;241m.\u001b[39mMaskedArray):\n\u001b[0;32m    711\u001b[0m     \u001b[38;5;28;01mfrom\u001b[39;00m \u001b[38;5;21;01mnumpy\u001b[39;00m\u001b[38;5;21;01m.\u001b[39;00m\u001b[38;5;21;01mma\u001b[39;00m \u001b[38;5;28;01mimport\u001b[39;00m mrecords\n",
      "File \u001b[1;32m~\\anaconda3\\Lib\\site-packages\\pandas\\core\\internals\\construction.py:481\u001b[0m, in \u001b[0;36mdict_to_mgr\u001b[1;34m(data, index, columns, dtype, typ, copy)\u001b[0m\n\u001b[0;32m    477\u001b[0m     \u001b[38;5;28;01melse\u001b[39;00m:\n\u001b[0;32m    478\u001b[0m         \u001b[38;5;66;03m# dtype check to exclude e.g. range objects, scalars\u001b[39;00m\n\u001b[0;32m    479\u001b[0m         arrays \u001b[38;5;241m=\u001b[39m [x\u001b[38;5;241m.\u001b[39mcopy() \u001b[38;5;28;01mif\u001b[39;00m \u001b[38;5;28mhasattr\u001b[39m(x, \u001b[38;5;124m\"\u001b[39m\u001b[38;5;124mdtype\u001b[39m\u001b[38;5;124m\"\u001b[39m) \u001b[38;5;28;01melse\u001b[39;00m x \u001b[38;5;28;01mfor\u001b[39;00m x \u001b[38;5;129;01min\u001b[39;00m arrays]\n\u001b[1;32m--> 481\u001b[0m \u001b[38;5;28;01mreturn\u001b[39;00m arrays_to_mgr(arrays, columns, index, dtype\u001b[38;5;241m=\u001b[39mdtype, typ\u001b[38;5;241m=\u001b[39mtyp, consolidate\u001b[38;5;241m=\u001b[39mcopy)\n",
      "File \u001b[1;32m~\\anaconda3\\Lib\\site-packages\\pandas\\core\\internals\\construction.py:115\u001b[0m, in \u001b[0;36marrays_to_mgr\u001b[1;34m(arrays, columns, index, dtype, verify_integrity, typ, consolidate)\u001b[0m\n\u001b[0;32m    112\u001b[0m \u001b[38;5;28;01mif\u001b[39;00m verify_integrity:\n\u001b[0;32m    113\u001b[0m     \u001b[38;5;66;03m# figure out the index, if necessary\u001b[39;00m\n\u001b[0;32m    114\u001b[0m     \u001b[38;5;28;01mif\u001b[39;00m index \u001b[38;5;129;01mis\u001b[39;00m \u001b[38;5;28;01mNone\u001b[39;00m:\n\u001b[1;32m--> 115\u001b[0m         index \u001b[38;5;241m=\u001b[39m _extract_index(arrays)\n\u001b[0;32m    116\u001b[0m     \u001b[38;5;28;01melse\u001b[39;00m:\n\u001b[0;32m    117\u001b[0m         index \u001b[38;5;241m=\u001b[39m ensure_index(index)\n",
      "File \u001b[1;32m~\\anaconda3\\Lib\\site-packages\\pandas\\core\\internals\\construction.py:655\u001b[0m, in \u001b[0;36m_extract_index\u001b[1;34m(data)\u001b[0m\n\u001b[0;32m    653\u001b[0m lengths \u001b[38;5;241m=\u001b[39m \u001b[38;5;28mlist\u001b[39m(\u001b[38;5;28mset\u001b[39m(raw_lengths))\n\u001b[0;32m    654\u001b[0m \u001b[38;5;28;01mif\u001b[39;00m \u001b[38;5;28mlen\u001b[39m(lengths) \u001b[38;5;241m>\u001b[39m \u001b[38;5;241m1\u001b[39m:\n\u001b[1;32m--> 655\u001b[0m     \u001b[38;5;28;01mraise\u001b[39;00m \u001b[38;5;167;01mValueError\u001b[39;00m(\u001b[38;5;124m\"\u001b[39m\u001b[38;5;124mAll arrays must be of the same length\u001b[39m\u001b[38;5;124m\"\u001b[39m)\n\u001b[0;32m    657\u001b[0m \u001b[38;5;28;01mif\u001b[39;00m have_dicts:\n\u001b[0;32m    658\u001b[0m     \u001b[38;5;28;01mraise\u001b[39;00m \u001b[38;5;167;01mValueError\u001b[39;00m(\n\u001b[0;32m    659\u001b[0m         \u001b[38;5;124m\"\u001b[39m\u001b[38;5;124mMixing dicts with non-Series may lead to ambiguous ordering.\u001b[39m\u001b[38;5;124m\"\u001b[39m\n\u001b[0;32m    660\u001b[0m     )\n",
      "\u001b[1;31mValueError\u001b[0m: All arrays must be of the same length"
     ]
    }
   ],
   "source": [
    "import pandas as pd\n",
    "import re\n",
    "\n",
    "patrones = [\n",
    "    'Grado o Título Institución',\n",
    "    'Fecha de diploma:',\n",
    "    'Modalidad de estudios:',\n",
    "    'Fecha matrícula:',\n",
    "    'Fecha egreso:'\n",
    "]\n",
    "\n",
    "# Crear un diccionario para almacenar las listas de valores para cada elemento\n",
    "elementos = {patron: [] for patron in patrones}\n",
    "\n",
    "# Iterar sobre cada fila del DataFrame\n",
    "for index, row in df.iterrows():\n",
    "    texto = row['texto']\n",
    "    \n",
    "    # Iterar sobre cada patrón y buscar coincidencias en el texto\n",
    "    for patron in patrones:\n",
    "        matches = re.finditer(patron + r'[\\n:]+(.+?)(?=\\n|$)', texto)\n",
    "        elementos[patron].extend([match.group(1).strip() for match in matches])\n",
    "\n",
    "# Crear un nuevo DataFrame con las columnas dinámicas\n",
    "df_resultado = pd.DataFrame(elementos)\n",
    "\n",
    "# Renombrar las columnas para que sean únicas\n",
    "df_resultado.columns = [f'{col}' for col in df_resultado.columns]\n",
    "\n",
    "# Concatenar el nuevo DataFrame con el orig"
   ]
  },
  {
   "cell_type": "code",
   "execution_count": 31,
   "id": "975d939a-37d7-458d-bc1e-e85f75030e95",
   "metadata": {
    "tags": []
   },
   "outputs": [
    {
     "data": {
      "text/plain": [
       "{'Grado o Título Institución': ['CALDAS CAÑARI, ROMEL DAVID'],\n",
       " 'Fecha de diploma:': ['Modalidad de estudios: -'],\n",
       " 'Modalidad de estudios:': [],\n",
       " 'Fecha matrícula:': [],\n",
       " 'Fecha egreso:': []}"
      ]
     },
     "execution_count": 31,
     "metadata": {},
     "output_type": "execute_result"
    }
   ],
   "source": [
    "elementos"
   ]
  },
  {
   "cell_type": "code",
   "execution_count": 21,
   "id": "3c244681-afc7-40ac-8294-9fd408b68dea",
   "metadata": {},
   "outputs": [
    {
     "data": {
      "text/plain": [
       "Index(['Apellido', 'Nombre', 'DNI', 'Fecha Diploma', 'Grado 1',\n",
       "       'Institución 1', 'Modalidad 1', 'Fecha Matrícula 1', 'Fecha Egreso 1'],\n",
       "      dtype='object')"
      ]
     },
     "execution_count": 21,
     "metadata": {},
     "output_type": "execute_result"
    }
   ],
   "source": [
    "df.columns"
   ]
  },
  {
   "cell_type": "code",
   "execution_count": 41,
   "id": "4b429cf8-8754-4475-ab32-fa8585336236",
   "metadata": {
    "tags": []
   },
   "outputs": [
    {
     "data": {
      "text/html": [
       "<div>\n",
       "<style scoped>\n",
       "    .dataframe tbody tr th:only-of-type {\n",
       "        vertical-align: middle;\n",
       "    }\n",
       "\n",
       "    .dataframe tbody tr th {\n",
       "        vertical-align: top;\n",
       "    }\n",
       "\n",
       "    .dataframe thead th {\n",
       "        text-align: right;\n",
       "    }\n",
       "</style>\n",
       "<table border=\"1\" class=\"dataframe\">\n",
       "  <thead>\n",
       "    <tr style=\"text-align: right;\">\n",
       "      <th></th>\n",
       "      <th>texto</th>\n",
       "      <th>Apellido</th>\n",
       "      <th>Nombre</th>\n",
       "      <th>DNI</th>\n",
       "      <th>Grado</th>\n",
       "      <th>Fecha Diploma</th>\n",
       "      <th>Modalidad</th>\n",
       "      <th>Fecha Matrícula</th>\n",
       "      <th>Fecha Egreso</th>\n",
       "      <th>Apellido</th>\n",
       "      <th>...</th>\n",
       "      <th>Fecha Matrícula</th>\n",
       "      <th>Fecha Egreso</th>\n",
       "      <th>Apellido</th>\n",
       "      <th>Nombre</th>\n",
       "      <th>DNI</th>\n",
       "      <th>Grado</th>\n",
       "      <th>Fecha Diploma</th>\n",
       "      <th>Modalidad</th>\n",
       "      <th>Fecha Matrícula</th>\n",
       "      <th>Fecha Egreso</th>\n",
       "    </tr>\n",
       "  </thead>\n",
       "  <tbody>\n",
       "    <tr>\n",
       "      <th>0</th>\n",
       "      <td>Resultado\\nGraduado Grado o Título Institución...</td>\n",
       "      <td>CAÑARI</td>\n",
       "      <td>ROMEL DAVID</td>\n",
       "      <td>32224811</td>\n",
       "      <td>BACHILLER EN CIENCIAS DE LA EDUCACION</td>\n",
       "      <td>22/08/1997</td>\n",
       "      <td>-</td>\n",
       "      <td>Sin información (***)</td>\n",
       "      <td>Sin información (***) UNIVERSIDAD NACIONAL DE ...</td>\n",
       "      <td>CAÑARI</td>\n",
       "      <td>...</td>\n",
       "      <td>Sin información (***)</td>\n",
       "      <td>Sin información (***) UNIVERSIDAD NACIONAL DE ...</td>\n",
       "      <td>CAÑARI</td>\n",
       "      <td>ROMEL DAVID</td>\n",
       "      <td>32224811</td>\n",
       "      <td>BACHILLER EN CIENCIAS DE LA EDUCACION</td>\n",
       "      <td>22/08/1997</td>\n",
       "      <td>-</td>\n",
       "      <td>Sin información (***)</td>\n",
       "      <td>Sin información (***) UNIVERSIDAD NACIONAL DE ...</td>\n",
       "    </tr>\n",
       "  </tbody>\n",
       "</table>\n",
       "<p>1 rows × 41 columns</p>\n",
       "</div>"
      ],
      "text/plain": [
       "                                               texto Apellido       Nombre  \\\n",
       "0  Resultado\\nGraduado Grado o Título Institución...   CAÑARI  ROMEL DAVID   \n",
       "\n",
       "        DNI                                  Grado Fecha Diploma Modalidad  \\\n",
       "0  32224811  BACHILLER EN CIENCIAS DE LA EDUCACION    22/08/1997         -   \n",
       "\n",
       "         Fecha Matrícula                                       Fecha Egreso  \\\n",
       "0  Sin información (***)  Sin información (***) UNIVERSIDAD NACIONAL DE ...   \n",
       "\n",
       "  Apellido  ...        Fecha Matrícula  \\\n",
       "0   CAÑARI  ...  Sin información (***)   \n",
       "\n",
       "                                        Fecha Egreso Apellido       Nombre  \\\n",
       "0  Sin información (***) UNIVERSIDAD NACIONAL DE ...   CAÑARI  ROMEL DAVID   \n",
       "\n",
       "        DNI                                  Grado Fecha Diploma Modalidad  \\\n",
       "0  32224811  BACHILLER EN CIENCIAS DE LA EDUCACION    22/08/1997         -   \n",
       "\n",
       "         Fecha Matrícula                                       Fecha Egreso  \n",
       "0  Sin información (***)  Sin información (***) UNIVERSIDAD NACIONAL DE ...  \n",
       "\n",
       "[1 rows x 41 columns]"
      ]
     },
     "execution_count": 41,
     "metadata": {},
     "output_type": "execute_result"
    }
   ],
   "source": [
    "import pandas as pd\n",
    "import re\n",
    "\n",
    "# Supongamos que tu DataFrame se llama df y la columna de texto es 'texto_columna'\n",
    "# df = ...\n",
    "\n",
    "columns = ['Apellido', 'Nombre', 'DNI', 'Grado', 'Fecha Diploma', 'Modalidad', 'Fecha Matrícula', 'Fecha Egreso']\n",
    "\n",
    "# Lista de patrones que queremos buscar en el texto\n",
    "patron = r'(\\w+), (\\w+ [\\w ]+)\\nDNI (\\d+)\\n([^\\n]+)\\n\\nFecha de diploma: (\\d{1,2}/\\d{1,2}/\\d{4})\\nModalidad de estudios: ([^\\n]+)\\n\\nFecha matrícula: ([^\\n]+)\\nFecha egreso: ([^\\n]+) ([^\\n]+)\\n'\n",
    "\n",
    "# Crear un diccionario para almacenar las listas de valores para cada elemento\n",
    "elementos = {col: [] for col in columns}\n",
    "\n",
    "# Iterar sobre cada fila del DataFrame\n",
    "for index, row in df.iterrows():\n",
    "    texto = row['texto']\n",
    "    \n",
    "    # Buscar coincidencias en el texto\n",
    "    match = re.search(patron, texto)\n",
    "    if match:\n",
    "        elementos['Apellido'].append(match.group(1))\n",
    "        elementos['Nombre'].append(match.group(2))\n",
    "        elementos['DNI'].append(match.group(3))\n",
    "        elementos['Grado'].append(match.group(4))\n",
    "        elementos['Fecha Diploma'].append(match.group(5))\n",
    "        elementos['Modalidad'].append(match.group(6))\n",
    "        elementos['Fecha Matrícula'].append(match.group(7))\n",
    "        elementos['Fecha Egreso'].append(match.group(8) + \" \" + match.group(9))\n",
    "        # elementos['Institución'].append(match.group(10))\n",
    "\n",
    "# Crear un nuevo DataFrame con las columnas específicas\n",
    "df_resultado = pd.DataFrame(elementos)\n",
    "\n",
    "# Concatenar el nuevo DataFrame con el original\n",
    "df = pd.concat([df, df_resultado], axis=1)\n",
    "\n",
    "# Mostrar el resultado\n",
    "df"
   ]
  },
  {
   "cell_type": "code",
   "execution_count": 42,
   "id": "84dbecc8-64e1-4c6b-aef2-c201c5acf701",
   "metadata": {
    "tags": []
   },
   "outputs": [
    {
     "data": {
      "text/plain": [
       "{'Apellido': ['CAÑARI'],\n",
       " 'Nombre': ['ROMEL DAVID'],\n",
       " 'DNI': ['32224811'],\n",
       " 'Grado': ['BACHILLER EN CIENCIAS DE LA EDUCACION'],\n",
       " 'Fecha Diploma': ['22/08/1997'],\n",
       " 'Modalidad': ['-'],\n",
       " 'Fecha Matrícula': ['Sin información (***)'],\n",
       " 'Fecha Egreso': ['Sin información (***) UNIVERSIDAD NACIONAL DE EDUCACIÓN ENRIQUE GUZMÁN Y VALLE']}"
      ]
     },
     "execution_count": 42,
     "metadata": {},
     "output_type": "execute_result"
    }
   ],
   "source": [
    "elementos"
   ]
  },
  {
   "cell_type": "code",
   "execution_count": 43,
   "id": "2951ced3-4d23-4eb2-b1d7-d6c3f6204daa",
   "metadata": {
    "tags": []
   },
   "outputs": [],
   "source": [
    "patron = r'(\\w+), (\\w+ [\\w ]+)\\nDNI (\\d+)\\n([^\\n]+)\\n\\nFecha de diploma: (\\d{1,2}/\\d{1,2}/\\d{4})\\nModalidad de estudios: ([^\\n]+)\\n\\nFecha matrícula: ([^\\n]+)\\nFecha egreso: ([^\\n]+) ([^\\n]+)\\n((?:[^\\n]+\\n)+)([^\\n]+)'\n",
    "columnas = ['Apellido', 'Nombre', 'DNI', 'Grado', 'Fecha Diploma', 'Modalidad', 'Fecha Matrícula', 'Fecha Egreso', 'Institución']\n",
    "\n",
    "# Crear un diccionario para almacenar las listas de valores para cada elemento\n",
    "elementos = {col: [] for col in columnas}\n",
    "\n",
    "# Iterar sobre cada fila del DataFrame\n",
    "for index, row in df.iterrows():\n",
    "    texto = row['texto']\n",
    "    \n",
    "    # Buscar coincidencias en el texto\n",
    "    match = re.search(patron, texto)\n",
    "    if match:\n",
    "        elementos['Apellido'].append(match.group(1))\n",
    "        elementos['Nombre'].append(match.group(2))\n",
    "        elementos['DNI'].append(match.group(3))\n",
    "        elementos['Grado'].append(match.group(4))\n",
    "        elementos['Fecha Diploma'].append(match.group(5))\n",
    "        elementos['Modalidad'].append(match.group(6))\n",
    "        elementos['Fecha Matrícula'].append(match.group(7))\n",
    "        elementos['Fecha Egreso'].append(match.group(8) + \" \" + match.group(9))\n",
    "        # Extraer la institución de la última parte del texto\n",
    "        elementos['Institución'].append(match.group(10).strip())\n",
    "\n",
    "# Crear un nuevo DataFrame con las columnas específicas\n",
    "df_resultado = pd.DataFrame(elementos)\n",
    "\n",
    "# Concatenar el nuevo DataFrame con el original\n",
    "df = pd.concat([df, df_resultado], axis=1)"
   ]
  },
  {
   "cell_type": "code",
   "execution_count": 46,
   "id": "70cbdf58-9ee0-4a84-8799-fe912889d428",
   "metadata": {
    "tags": []
   },
   "outputs": [],
   "source": [
    "df.to_excel( 'hola.xlsx' )"
   ]
  },
  {
   "cell_type": "code",
   "execution_count": null,
   "id": "7a69591d-b586-4146-9945-d16375c9df9a",
   "metadata": {},
   "outputs": [],
   "source": []
  },
  {
   "cell_type": "code",
   "execution_count": null,
   "id": "a87086f9-dd59-40de-a642-da1ecac9c056",
   "metadata": {},
   "outputs": [],
   "source": []
  },
  {
   "cell_type": "code",
   "execution_count": null,
   "id": "bde9c6d0-1097-466d-be23-60c359534178",
   "metadata": {},
   "outputs": [],
   "source": []
  },
  {
   "cell_type": "code",
   "execution_count": 26,
   "id": "f99a0b46-4379-482f-b4f8-2657e777f8ea",
   "metadata": {
    "tags": []
   },
   "outputs": [
    {
     "ename": "NoSuchElementException",
     "evalue": "Message: no such element: Unable to locate element: {\"method\":\"xpath\",\"selector\":\"//*[@id=\"finalData\"]/tr/td[2]/b[1]/p\"}\n  (Session info: chrome=119.0.6045.124)\nStacktrace:\n\tGetHandleVerifier [0x009772A3+45731]\n\t(No symbol) [0x00902D51]\n\t(No symbol) [0x007F880D]\n\t(No symbol) [0x0082B940]\n\t(No symbol) [0x0082BE0B]\n\t(No symbol) [0x0085D1F2]\n\t(No symbol) [0x00848024]\n\t(No symbol) [0x0085B7A2]\n\t(No symbol) [0x00847DD6]\n\t(No symbol) [0x008231F6]\n\t(No symbol) [0x0082439D]\n\tGetHandleVerifier [0x00C80716+3229462]\n\tGetHandleVerifier [0x00CC84C8+3523784]\n\tGetHandleVerifier [0x00CC214C+3498316]\n\tGetHandleVerifier [0x00A01680+611968]\n\t(No symbol) [0x0090CCCC]\n\t(No symbol) [0x00908DF8]\n\t(No symbol) [0x00908F1D]\n\t(No symbol) [0x008FB2C7]\n\tBaseThreadInitThunk [0x7760FCC9+25]\n\tRtlGetAppContainerNamedObjectPath [0x77D07C6E+286]\n\tRtlGetAppContainerNamedObjectPath [0x77D07C3E+238]\n",
     "output_type": "error",
     "traceback": [
      "\u001b[1;31m---------------------------------------------------------------------------\u001b[0m",
      "\u001b[1;31mNoSuchElementException\u001b[0m                    Traceback (most recent call last)",
      "Cell \u001b[1;32mIn[26], line 1\u001b[0m\n\u001b[1;32m----> 1\u001b[0m grado \u001b[38;5;241m=\u001b[39m driver\u001b[38;5;241m.\u001b[39mfind_element( By\u001b[38;5;241m.\u001b[39mXPATH, \u001b[38;5;124m'\u001b[39m\u001b[38;5;124m//*[@id=\u001b[39m\u001b[38;5;124m\"\u001b[39m\u001b[38;5;124mfinalData\u001b[39m\u001b[38;5;124m\"\u001b[39m\u001b[38;5;124m]/tr/td[2]/b[1]/p\u001b[39m\u001b[38;5;124m'\u001b[39m )\u001b[38;5;241m.\u001b[39mtext\n\u001b[0;32m      2\u001b[0m grado\n",
      "File \u001b[1;32m~\\anaconda3\\Lib\\site-packages\\selenium\\webdriver\\remote\\webdriver.py:831\u001b[0m, in \u001b[0;36mWebDriver.find_element\u001b[1;34m(self, by, value)\u001b[0m\n\u001b[0;32m    828\u001b[0m     by \u001b[38;5;241m=\u001b[39m By\u001b[38;5;241m.\u001b[39mCSS_SELECTOR\n\u001b[0;32m    829\u001b[0m     value \u001b[38;5;241m=\u001b[39m \u001b[38;5;124mf\u001b[39m\u001b[38;5;124m'\u001b[39m\u001b[38;5;124m[name=\u001b[39m\u001b[38;5;124m\"\u001b[39m\u001b[38;5;132;01m{\u001b[39;00mvalue\u001b[38;5;132;01m}\u001b[39;00m\u001b[38;5;124m\"\u001b[39m\u001b[38;5;124m]\u001b[39m\u001b[38;5;124m'\u001b[39m\n\u001b[1;32m--> 831\u001b[0m \u001b[38;5;28;01mreturn\u001b[39;00m \u001b[38;5;28mself\u001b[39m\u001b[38;5;241m.\u001b[39mexecute(Command\u001b[38;5;241m.\u001b[39mFIND_ELEMENT, {\u001b[38;5;124m\"\u001b[39m\u001b[38;5;124musing\u001b[39m\u001b[38;5;124m\"\u001b[39m: by, \u001b[38;5;124m\"\u001b[39m\u001b[38;5;124mvalue\u001b[39m\u001b[38;5;124m\"\u001b[39m: value})[\u001b[38;5;124m\"\u001b[39m\u001b[38;5;124mvalue\u001b[39m\u001b[38;5;124m\"\u001b[39m]\n",
      "File \u001b[1;32m~\\anaconda3\\Lib\\site-packages\\selenium\\webdriver\\remote\\webdriver.py:440\u001b[0m, in \u001b[0;36mWebDriver.execute\u001b[1;34m(self, driver_command, params)\u001b[0m\n\u001b[0;32m    438\u001b[0m response \u001b[38;5;241m=\u001b[39m \u001b[38;5;28mself\u001b[39m\u001b[38;5;241m.\u001b[39mcommand_executor\u001b[38;5;241m.\u001b[39mexecute(driver_command, params)\n\u001b[0;32m    439\u001b[0m \u001b[38;5;28;01mif\u001b[39;00m response:\n\u001b[1;32m--> 440\u001b[0m     \u001b[38;5;28mself\u001b[39m\u001b[38;5;241m.\u001b[39merror_handler\u001b[38;5;241m.\u001b[39mcheck_response(response)\n\u001b[0;32m    441\u001b[0m     response[\u001b[38;5;124m\"\u001b[39m\u001b[38;5;124mvalue\u001b[39m\u001b[38;5;124m\"\u001b[39m] \u001b[38;5;241m=\u001b[39m \u001b[38;5;28mself\u001b[39m\u001b[38;5;241m.\u001b[39m_unwrap_value(response\u001b[38;5;241m.\u001b[39mget(\u001b[38;5;124m\"\u001b[39m\u001b[38;5;124mvalue\u001b[39m\u001b[38;5;124m\"\u001b[39m, \u001b[38;5;28;01mNone\u001b[39;00m))\n\u001b[0;32m    442\u001b[0m     \u001b[38;5;28;01mreturn\u001b[39;00m response\n",
      "File \u001b[1;32m~\\anaconda3\\Lib\\site-packages\\selenium\\webdriver\\remote\\errorhandler.py:245\u001b[0m, in \u001b[0;36mErrorHandler.check_response\u001b[1;34m(self, response)\u001b[0m\n\u001b[0;32m    243\u001b[0m         alert_text \u001b[38;5;241m=\u001b[39m value[\u001b[38;5;124m\"\u001b[39m\u001b[38;5;124malert\u001b[39m\u001b[38;5;124m\"\u001b[39m]\u001b[38;5;241m.\u001b[39mget(\u001b[38;5;124m\"\u001b[39m\u001b[38;5;124mtext\u001b[39m\u001b[38;5;124m\"\u001b[39m)\n\u001b[0;32m    244\u001b[0m     \u001b[38;5;28;01mraise\u001b[39;00m exception_class(message, screen, stacktrace, alert_text)  \u001b[38;5;66;03m# type: ignore[call-arg]  # mypy is not smart enough here\u001b[39;00m\n\u001b[1;32m--> 245\u001b[0m \u001b[38;5;28;01mraise\u001b[39;00m exception_class(message, screen, stacktrace)\n",
      "\u001b[1;31mNoSuchElementException\u001b[0m: Message: no such element: Unable to locate element: {\"method\":\"xpath\",\"selector\":\"//*[@id=\"finalData\"]/tr/td[2]/b[1]/p\"}\n  (Session info: chrome=119.0.6045.124)\nStacktrace:\n\tGetHandleVerifier [0x009772A3+45731]\n\t(No symbol) [0x00902D51]\n\t(No symbol) [0x007F880D]\n\t(No symbol) [0x0082B940]\n\t(No symbol) [0x0082BE0B]\n\t(No symbol) [0x0085D1F2]\n\t(No symbol) [0x00848024]\n\t(No symbol) [0x0085B7A2]\n\t(No symbol) [0x00847DD6]\n\t(No symbol) [0x008231F6]\n\t(No symbol) [0x0082439D]\n\tGetHandleVerifier [0x00C80716+3229462]\n\tGetHandleVerifier [0x00CC84C8+3523784]\n\tGetHandleVerifier [0x00CC214C+3498316]\n\tGetHandleVerifier [0x00A01680+611968]\n\t(No symbol) [0x0090CCCC]\n\t(No symbol) [0x00908DF8]\n\t(No symbol) [0x00908F1D]\n\t(No symbol) [0x008FB2C7]\n\tBaseThreadInitThunk [0x7760FCC9+25]\n\tRtlGetAppContainerNamedObjectPath [0x77D07C6E+286]\n\tRtlGetAppContainerNamedObjectPath [0x77D07C3E+238]\n"
     ]
    }
   ],
   "source": [
    "grado = driver.find_element( By.XPATH, '//*[@id=\"finalData\"]/tr/td[2]/b[1]/p' ).text\n",
    "grado"
   ]
  },
  {
   "cell_type": "code",
   "execution_count": 43,
   "id": "2fe42ef3-adcf-46d0-8975-57c158ceb71a",
   "metadata": {
    "tags": []
   },
   "outputs": [
    {
     "data": {
      "text/plain": [
       "'Fecha de diploma: 01/03/2023'"
      ]
     },
     "execution_count": 43,
     "metadata": {},
     "output_type": "execute_result"
    }
   ],
   "source": [
    "fecha_diploma = driver.find_element( By.XPATH, '//*[@id=\"finalData\"]/tr/td[2]/b[2]' ).text\n",
    "fecha_diploma"
   ]
  },
  {
   "cell_type": "code",
   "execution_count": 44,
   "id": "4390a120-9798-4a2f-aee3-83745b119f14",
   "metadata": {
    "tags": []
   },
   "outputs": [
    {
     "data": {
      "text/plain": [
       "'PRESENCIAL'"
      ]
     },
     "execution_count": 44,
     "metadata": {},
     "output_type": "execute_result"
    }
   ],
   "source": [
    "modalidad = driver.find_element( By.XPATH, '//*[@id=\"finalData\"]/tr/td[2]/span[1]' ).text\n",
    "modalidad"
   ]
  },
  {
   "cell_type": "code",
   "execution_count": 45,
   "id": "3d430574-376b-457c-b0d7-e71d4dcbd3a0",
   "metadata": {
    "tags": []
   },
   "outputs": [
    {
     "data": {
      "text/plain": [
       "'PONTIFICIA UNIVERSIDAD CATÓLICA DEL PERÚ'"
      ]
     },
     "execution_count": 45,
     "metadata": {},
     "output_type": "execute_result"
    }
   ],
   "source": [
    "institucion = driver.find_element( By.XPATH, '//*[@id=\"finalData\"]/tr/td[3]/span' ).text\n",
    "institucion"
   ]
  },
  {
   "cell_type": "code",
   "execution_count": null,
   "id": "5f2fc2be-f9ec-4e7f-9352-c7fcba92e40b",
   "metadata": {},
   "outputs": [],
   "source": []
  },
  {
   "cell_type": "code",
   "execution_count": null,
   "id": "95027007-cba9-4ecd-b7d7-59ca2d3711d8",
   "metadata": {},
   "outputs": [],
   "source": []
  },
  {
   "cell_type": "code",
   "execution_count": 49,
   "id": "423e7d27-e330-41c4-8fa7-6f31a3c84403",
   "metadata": {
    "tags": []
   },
   "outputs": [],
   "source": [
    "def extract_info( df ):\n",
    "    \n",
    "    options = Options()\n",
    "    service = Service( ChromeDriverManager().install( ) )\n",
    "    driver  = webdriver.Chrome( service = service )\n",
    "    driver.maximize_window()\n",
    "\n",
    "    url     = f'https://enlinea.sunedu.gob.pe/'\n",
    "    driver.get( url )\n",
    "    wait    = WebDriverWait( driver, 60 )\n",
    "    \n",
    "    verificar_titulos_popup = driver.find_element( By.XPATH, '//*[@id=\"dvEnLinea\"]/div[2]/div[3]/div/div[2]/div/a' )\n",
    "    verificar_titulos_popup.click()\n",
    "    \n",
    "    frame_popup = driver.find_element( By.XPATH, '//*[@id=\"ifrmShowFormConstancias\"]' )\n",
    "    driver.switch_to.frame( frame_popup )\n",
    "    \n",
    "    for index, row in df.iterrows():\n",
    "        \n",
    "        dni_valor = row['dni']\n",
    "        \n",
    "        dni_campo = wait.until( EC.presence_of_element_located( ( By.XPATH, '//*[@id=\"doc\"]' ) ) )\n",
    "        dni_campo.clear()\n",
    "        dni_campo.send_keys( dni_valor )\n",
    "                \n",
    "        captcha       = driver.find_element( By.XPATH, '//*[@id=\"captchaImg\"]/img' )\n",
    "        captcha_image = captcha.screenshot_as_png\n",
    "        with open( 'image.png', 'wb' ) as f:\n",
    "            f.write( captcha_image )\n",
    "\n",
    "        clave_valor = pytesseract.image_to_string( Image.open( 'image.png') ).strip()\n",
    "        campo_captcha = wait.until( EC.presence_of_element_located( ( By.XPATH, '//*[@id=\"captcha\"]' ) ) )\n",
    "        campo_captcha.clear()\n",
    "        campo_captcha.send_keys( clave_valor )                \n",
    "            \n",
    "        buscar_boton = wait.until( EC.presence_of_element_located( ( By.XPATH, '//*[@id=\"buscar\"]' ) ) )\n",
    "        buscar_boton.click()\n",
    "        \n",
    "        grado         = wait.until( EC.presence_of_element_located( ( By.XPATH, '//*[@id=\"finalData\"]/tr[1]/td[2]/b[1]/p' ) ) ).text\n",
    "        fecha_diploma = wait.until( EC.presence_of_element_located( ( By.XPATH, '//*[@id=\"finalData\"]/tr[1]/td[2]/b[2]' ) ) ).text\n",
    "        modalidad     = wait.until( EC.presence_of_element_located( ( By.XPATH, '//*[@id=\"finalData\"]/tr[1]/td[2]/span' ) ) ).text\n",
    "        institucion   = wait.until( EC.presence_of_element_located( ( By.XPATH, '//*[@id=\"finalData\"]/tr[1]/td[3]/span' ) ) ).text\n",
    "        \n",
    "        print( grado )\n",
    "        print( institucion )\n",
    "        \n",
    "        df.at[ index, 'grado' ]         = grado       \n",
    "        df.at[ index, 'fecha_diploma' ] = fecha_diploma    \n",
    "        df.at[ index, 'modalidad' ]     = modalidad    \n",
    "        df.at[ index, 'institucion' ]   = institucion\n",
    "        \n",
    "        # Salir del iframe para recargar la página principal\n",
    "        driver.switch_to.default_content()\n",
    "\n",
    "        # Recargar la página principal\n",
    "        driver.refresh()\n",
    "\n",
    "        # Volver a entrar en el iframe\n",
    "        verificar_titulos_popup = driver.find_element( By.XPATH, '//*[@id=\"dvEnLinea\"]/div[2]/div[3]/div/div[2]/div/a' )\n",
    "        verificar_titulos_popup.click()\n",
    "        frame_popup = driver.find_element(By.XPATH, '//*[@id=\"ifrmShowFormConstancias\"]')\n",
    "        driver.switch_to.frame(frame_popup)\n",
    "\n",
    "        time.sleep(10)\n",
    "        \n",
    "    driver.quit()\n",
    "        \n",
    "    return df"
   ]
  },
  {
   "cell_type": "code",
   "execution_count": 50,
   "id": "7f31a948-4b01-4f3f-b475-6f5065485001",
   "metadata": {
    "tags": []
   },
   "outputs": [
    {
     "data": {
      "text/html": [
       "<div>\n",
       "<style scoped>\n",
       "    .dataframe tbody tr th:only-of-type {\n",
       "        vertical-align: middle;\n",
       "    }\n",
       "\n",
       "    .dataframe tbody tr th {\n",
       "        vertical-align: top;\n",
       "    }\n",
       "\n",
       "    .dataframe thead th {\n",
       "        text-align: right;\n",
       "    }\n",
       "</style>\n",
       "<table border=\"1\" class=\"dataframe\">\n",
       "  <thead>\n",
       "    <tr style=\"text-align: right;\">\n",
       "      <th></th>\n",
       "      <th>dni</th>\n",
       "    </tr>\n",
       "  </thead>\n",
       "  <tbody>\n",
       "    <tr>\n",
       "      <th>0</th>\n",
       "      <td>70313538</td>\n",
       "    </tr>\n",
       "    <tr>\n",
       "      <th>1</th>\n",
       "      <td>32220818</td>\n",
       "    </tr>\n",
       "    <tr>\n",
       "      <th>2</th>\n",
       "      <td>32224811</td>\n",
       "    </tr>\n",
       "  </tbody>\n",
       "</table>\n",
       "</div>"
      ],
      "text/plain": [
       "        dni\n",
       "0  70313538\n",
       "1  32220818\n",
       "2  32224811"
      ]
     },
     "execution_count": 50,
     "metadata": {},
     "output_type": "execute_result"
    }
   ],
   "source": [
    "data = pd.read_excel( 'data.xlsx', dtype = { 'dni': str } )\n",
    "data"
   ]
  },
  {
   "cell_type": "code",
   "execution_count": 51,
   "id": "a76a3986-ccd9-46b9-b53f-0a165a4991c7",
   "metadata": {
    "tags": []
   },
   "outputs": [
    {
     "name": "stdout",
     "output_type": "stream",
     "text": [
      "Bachiller en Ciencias Sociales con Mención en Ciencia Política y Gobierno\n",
      "PONTIFICIA UNIVERSIDAD CATÓLICA DEL PERÚ\n",
      "LICENCIADA EN EDUCACION PRIMARIA\n",
      "UNIVERSIDAD PRIVADA DE SAN PEDRO\n",
      "LICENCIADO EN CIENCIAS DE LA EDUCACION\n",
      "UNIVERSIDAD NACIONAL DE EDUCACIÓN ENRIQUE GUZMÁN Y VALLE\n"
     ]
    }
   ],
   "source": [
    "new_data = extract_info( data )"
   ]
  },
  {
   "cell_type": "code",
   "execution_count": 48,
   "id": "69e98bdd-82ad-4527-a039-8f352ac464ff",
   "metadata": {
    "tags": []
   },
   "outputs": [
    {
     "data": {
      "text/html": [
       "<div>\n",
       "<style scoped>\n",
       "    .dataframe tbody tr th:only-of-type {\n",
       "        vertical-align: middle;\n",
       "    }\n",
       "\n",
       "    .dataframe tbody tr th {\n",
       "        vertical-align: top;\n",
       "    }\n",
       "\n",
       "    .dataframe thead th {\n",
       "        text-align: right;\n",
       "    }\n",
       "</style>\n",
       "<table border=\"1\" class=\"dataframe\">\n",
       "  <thead>\n",
       "    <tr style=\"text-align: right;\">\n",
       "      <th></th>\n",
       "      <th>dni</th>\n",
       "      <th>grado</th>\n",
       "      <th>fecha_diploma</th>\n",
       "      <th>modalidad</th>\n",
       "      <th>institucion</th>\n",
       "    </tr>\n",
       "  </thead>\n",
       "  <tbody>\n",
       "    <tr>\n",
       "      <th>0</th>\n",
       "      <td>70313538</td>\n",
       "      <td>Bachiller en Ciencias Sociales con Mención en ...</td>\n",
       "      <td>Fecha de diploma: 01/03/2023</td>\n",
       "      <td>PRESENCIAL</td>\n",
       "      <td>PONTIFICIA UNIVERSIDAD CATÓLICA DEL PERÚ</td>\n",
       "    </tr>\n",
       "    <tr>\n",
       "      <th>1</th>\n",
       "      <td>32220818</td>\n",
       "      <td>LICENCIADA EN EDUCACION PRIMARIA</td>\n",
       "      <td>Fecha de diploma: 01/06/2007</td>\n",
       "      <td>-</td>\n",
       "      <td>UNIVERSIDAD PRIVADA DE SAN PEDRO</td>\n",
       "    </tr>\n",
       "    <tr>\n",
       "      <th>2</th>\n",
       "      <td>32224811</td>\n",
       "      <td>LICENCIADO EN CIENCIAS DE LA EDUCACION</td>\n",
       "      <td>Fecha de diploma:</td>\n",
       "      <td>-</td>\n",
       "      <td>UNIVERSIDAD NACIONAL DE EDUCACIÓN ENRIQUE GUZM...</td>\n",
       "    </tr>\n",
       "  </tbody>\n",
       "</table>\n",
       "</div>"
      ],
      "text/plain": [
       "        dni                                              grado  \\\n",
       "0  70313538  Bachiller en Ciencias Sociales con Mención en ...   \n",
       "1  32220818                   LICENCIADA EN EDUCACION PRIMARIA   \n",
       "2  32224811             LICENCIADO EN CIENCIAS DE LA EDUCACION   \n",
       "\n",
       "                  fecha_diploma   modalidad  \\\n",
       "0  Fecha de diploma: 01/03/2023  PRESENCIAL   \n",
       "1  Fecha de diploma: 01/06/2007           -   \n",
       "2             Fecha de diploma:           -   \n",
       "\n",
       "                                         institucion  \n",
       "0           PONTIFICIA UNIVERSIDAD CATÓLICA DEL PERÚ  \n",
       "1                   UNIVERSIDAD PRIVADA DE SAN PEDRO  \n",
       "2  UNIVERSIDAD NACIONAL DE EDUCACIÓN ENRIQUE GUZM...  "
      ]
     },
     "execution_count": 48,
     "metadata": {},
     "output_type": "execute_result"
    }
   ],
   "source": [
    "new_data"
   ]
  },
  {
   "cell_type": "code",
   "execution_count": null,
   "id": "1b31c415-7fd3-45e2-9c88-65be6c2eca09",
   "metadata": {},
   "outputs": [],
   "source": []
  },
  {
   "cell_type": "code",
   "execution_count": null,
   "id": "1095d355-08da-43cd-a02d-d9d060850ba3",
   "metadata": {},
   "outputs": [],
   "source": []
  },
  {
   "cell_type": "code",
   "execution_count": null,
   "id": "65936222-4a76-4bae-a40b-791f01a7e73f",
   "metadata": {},
   "outputs": [],
   "source": [
    "//*[@id=\"finalData\"]/tr/td[2]/span[1]\n",
    "//*[@id=\"finalData\"]/tr[2]/td[2]/span"
   ]
  },
  {
   "cell_type": "code",
   "execution_count": null,
   "id": "8093ff78-14ea-4d91-a707-665268ad23ad",
   "metadata": {},
   "outputs": [],
   "source": [
    "//*[@id=\"finalData\"]/tr[1]/td[2]/span"
   ]
  },
  {
   "cell_type": "code",
   "execution_count": null,
   "id": "4d764491-8dc1-429b-b247-0f44740485ef",
   "metadata": {},
   "outputs": [],
   "source": []
  },
  {
   "cell_type": "code",
   "execution_count": null,
   "id": "9f69df48-3050-450c-a23d-2ef613156326",
   "metadata": {},
   "outputs": [],
   "source": [
    "## SI FUNCIONA\n",
    "\n",
    "def extract_info( df ):\n",
    "    \n",
    "    options = Options()\n",
    "    service = Service( ChromeDriverManager().install( ) )\n",
    "    driver  = webdriver.Chrome( service = service )\n",
    "    driver.maximize_window()\n",
    "\n",
    "    url     = f'https://enlinea.sunedu.gob.pe/'\n",
    "    driver.get( url )\n",
    "    wait    = WebDriverWait( driver, 60 )\n",
    "    \n",
    "    verificar_titulos_popup = driver.find_element( By.XPATH, '//*[@id=\"dvEnLinea\"]/div[2]/div[3]/div/div[2]/div/a' )\n",
    "    verificar_titulos_popup.click()\n",
    "    \n",
    "    frame_popup = driver.find_element( By.XPATH, '//*[@id=\"ifrmShowFormConstancias\"]' )\n",
    "    driver.switch_to.frame( frame_popup )\n",
    "    \n",
    "    for index, row in df.iterrows():\n",
    "        \n",
    "        dni_valor = row['dni']\n",
    "        \n",
    "        dni_campo = wait.until( EC.presence_of_element_located( ( By.XPATH, '//*[@id=\"doc\"]' ) ) )\n",
    "        dni_campo.clear()\n",
    "        dni_campo.send_keys( dni_valor )\n",
    "        \n",
    "\n",
    "        max_retries = 5\n",
    "\n",
    "        for retry in range( max_retries ):\n",
    "            \n",
    "            try:\n",
    "                \n",
    "                captcha       = driver.find_element( By.XPATH, '//*[@id=\"captchaImg\"]/img' )\n",
    "                captcha_image = captcha.screenshot_as_png\n",
    "                with open( 'image.png', 'wb' ) as f:\n",
    "                    f.write( captcha_image )\n",
    "                \n",
    "                clave_valor = pytesseract.image_to_string( Image.open( 'image.png') ).strip()\n",
    "                campo_captcha = wait.until( EC.presence_of_element_located( ( By.XPATH, '//*[@id=\"captcha\"]' ) ) )\n",
    "                campo_captcha.clear()\n",
    "                campo_captcha.send_keys( clave_valor )                 \n",
    "                break  # Salir del bucle si el bloque try tiene éxito\n",
    "            \n",
    "            except:\n",
    "                print( f'Error: { e }' )\n",
    "                print( f'Intentando de nuevo después de 30 segundos...' )\n",
    "                time.sleep( 30 )\n",
    "                boton_x = wait.until( EC.presence_of_element_located( ( By.XPATH, '//*[@id=\"closeModalError\"]/span[1]' ) ) )\n",
    "                boton_x.click()\n",
    "        \n",
    "        buscar_boton = wait.until( EC.presence_of_element_located( ( By.XPATH, '//*[@id=\"buscar\"]' ) ) )\n",
    "        buscar_boton.click()\n",
    "        \n",
    "        grado         = wait.until( EC.presence_of_element_located( ( By.XPATH, '//*[@id=\"finalData\"]/tr[1]/td[2]/b[1]/p' ) ) ).text\n",
    "        fecha_diploma = wait.until( EC.presence_of_element_located( ( By.XPATH, '//*[@id=\"finalData\"]/tr[1]/td[2]/b[2]' ) ) ).text\n",
    "        modalidad     = wait.until( EC.presence_of_element_located( ( By.XPATH, '//*[@id=\"finalData\"]/tr[1]/td[2]/span' ) ) ).text\n",
    "        institucion   = wait.until( EC.presence_of_element_located( ( By.XPATH, '//*[@id=\"finalData\"]/tr[1]/td[3]/span' ) ) ).text\n",
    "        \n",
    "        print( grado )\n",
    "        print( institucion )\n",
    "        \n",
    "        df.at[ index, 'grado' ]         = grado       \n",
    "        df.at[ index, 'fecha_diploma' ] = fecha_diploma    \n",
    "        df.at[ index, 'modalidad' ]     = modalidad    \n",
    "        df.at[ index, 'institucion' ]   = institucion\n",
    "        \n",
    "        # Salir del iframe para recargar la página principal\n",
    "        driver.switch_to.default_content()\n",
    "\n",
    "        # Recargar la página principal\n",
    "        driver.refresh()\n",
    "\n",
    "        # Volver a entrar en el iframe\n",
    "        verificar_titulos_popup = driver.find_element( By.XPATH, '//*[@id=\"dvEnLinea\"]/div[2]/div[3]/div/div[2]/div/a' )\n",
    "        verificar_titulos_popup.click()\n",
    "        frame_popup = driver.find_element(By.XPATH, '//*[@id=\"ifrmShowFormConstancias\"]')\n",
    "        driver.switch_to.frame(frame_popup)\n",
    "\n",
    "        time.sleep(10)\n",
    "        \n",
    "    driver.quit()\n",
    "        \n",
    "    return df"
   ]
  }
 ],
 "metadata": {
  "kernelspec": {
   "display_name": "Python 3 (ipykernel)",
   "language": "python",
   "name": "python3"
  },
  "language_info": {
   "codemirror_mode": {
    "name": "ipython",
    "version": 3
   },
   "file_extension": ".py",
   "mimetype": "text/x-python",
   "name": "python",
   "nbconvert_exporter": "python",
   "pygments_lexer": "ipython3",
   "version": "3.11.4"
  }
 },
 "nbformat": 4,
 "nbformat_minor": 5
}
